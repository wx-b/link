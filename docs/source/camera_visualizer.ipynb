{
 "cells": [
  {
   "cell_type": "markdown",
   "metadata": {},
   "source": [
    "# Camera Visualizer\n",
    "The example demonstrates using `camera_visualizer.py` to show cameras in Open3D.\n",
    "\n",
    "<img src=\"https://user-images.githubusercontent.com/7057863/125173116-64a26480-e18b-11eb-9618-0fbb950e038f.gif\" alt=\"drawing\" width=\"400\"/>"
   ]
  },
  {
   "cell_type": "code",
   "execution_count": 1,
   "metadata": {},
   "outputs": [],
   "source": [
    "import os\n",
    "import numpy as np\n",
    "import json\n",
    "\n",
    "import sys\n",
    "sys.path.append(os.path.abspath('../..'))\n",
    "from camera_visualizer import visualize_cameras"
   ]
  },
  {
   "cell_type": "markdown",
   "metadata": {},
   "source": [
    "## Load data\n",
    "Check the json files to see how camera poses are stored."
   ]
  },
  {
   "cell_type": "code",
   "execution_count": 2,
   "metadata": {},
   "outputs": [],
   "source": [
    "with open('./camera_dict_A.json') as f:\n",
    "    camera_dict_A = json.load(f)\n",
    "with open('./camera_dict_B.json') as f:\n",
    "    camera_dict_B = json.load(f)"
   ]
  },
  {
   "cell_type": "markdown",
   "metadata": {},
   "source": [
    "## Launch the camera visualizer\n",
    "\n",
    "Note that one can specify the colors of the cameras in `colored_camera_dicts`."
   ]
  },
  {
   "cell_type": "code",
   "execution_count": 3,
   "metadata": {},
   "outputs": [],
   "source": [
    "sphere_radius = 1.\n",
    "camera_size = 0.1\n",
    "\n",
    "colored_camera_dicts = [([0, 1, 0], camera_dict_A),\n",
    "                        ([1, 0, 0], camera_dict_B)]\n",
    "\n",
    "visualize_cameras(colored_camera_dicts, sphere_radius, camera_size=camera_size)"
   ]
  }
 ],
 "metadata": {
  "kernelspec": {
   "display_name": "Python 3.8.5 64-bit ('pixelnerf': conda)",
   "language": "python",
   "name": "python38564bitpixelnerfconda5925d898f44246a38a26500314eece16"
  },
  "language_info": {
   "codemirror_mode": {
    "name": "ipython",
    "version": 3
   },
   "file_extension": ".py",
   "mimetype": "text/x-python",
   "name": "python",
   "nbconvert_exporter": "python",
   "pygments_lexer": "ipython3",
   "version": "3.8.5"
  }
 },
 "nbformat": 4,
 "nbformat_minor": 4
}
